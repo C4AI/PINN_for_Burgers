{
 "cells": [
  {
   "cell_type": "code",
   "execution_count": 1,
   "metadata": {},
   "outputs": [
    {
     "name": "stderr",
     "output_type": "stream",
     "text": [
      "c:\\Users\\marlon\\AppData\\Local\\Programs\\Python\\Python39\\lib\\site-packages\\tqdm\\auto.py:22: TqdmWarning: IProgress not found. Please update jupyter and ipywidgets. See https://ipywidgets.readthedocs.io/en/stable/user_install.html\n",
      "  from .autonotebook import tqdm as notebook_tqdm\n"
     ]
    }
   ],
   "source": [
    "import torch\n",
    "import numpy as np\n",
    "from scipy.io import loadmat\n",
    "import argparse\n",
    "from pinn.neural_net import MLP\n",
    "from pinn.util import log\n",
    "from pathlib import Path\n",
    "import matplotlib.pyplot as plt\n",
    "from pinn.evaluate import get_pars, evaluate, load_data, get_residuals, get_loss\n",
    "import pandas as pd\n",
    "import glob\n",
    "import re"
   ]
  },
  {
   "cell_type": "code",
   "execution_count": 2,
   "metadata": {},
   "outputs": [],
   "source": [
    "def get_ref_case(save_path):\n",
    "\n",
    "    nt = 101\n",
    "    nx = 101\n",
    "    ny = 101\n",
    "\n",
    "    t = np.linspace(0,1,nt)\n",
    "    x = np.linspace(0,1,nx)\n",
    "    y = np.linspace(0,1,ny)\n",
    "\n",
    "    [x_grid, t_grid, y_grid] = np.meshgrid(x,t,y)\n",
    "    X = np.hstack((t_grid.flatten()[:,None],x_grid.flatten()[:,None],y_grid.flatten()[:,None]))\n",
    "\n",
    "    data = loadmat(save_path)\n",
    "\n",
    "    U_data = data['uref'].transpose((2,1,0))\n",
    "    V_data = data['vref'].transpose((2,1,0))\n",
    "\n",
    "    return U_data, V_data"
   ]
  },
  {
   "cell_type": "code",
   "execution_count": 3,
   "metadata": {},
   "outputs": [],
   "source": [
    "def get_case(case,U_ref,V_ref):\n",
    "    nt = 101\n",
    "    nx = 101\n",
    "    ny = 101\n",
    "\n",
    "    t = np.linspace(0,1,nt)\n",
    "    x = np.linspace(0,1,nx)\n",
    "    y = np.linspace(0,1,ny)\n",
    "\n",
    "\n",
    "    [U, V, t_grid, x_grid, y_grid, X] = evaluate(t,x,y,case)\n",
    "\n",
    "    E_rms = np.sqrt(np.sum((U-U_ref)**2)+np.sum((V-V_ref)**2))/np.sqrt(2*nt*nx*ny)\n",
    "    E_abs = np.sum(np.abs(U-U_ref)+np.abs(V-V_ref))/(2*nt*nx*ny)\n",
    "\n",
    "    [r1, r2, t_grid, x_grid, y_grid, X] = get_residuals(t,x,y,case)\n",
    "\n",
    "    R_rms = np.sqrt(np.sum(r1**2) + np.sum(r2**2))/(np.sqrt(nt*nx*ny))\n",
    "    R_abs = (np.sum(np.abs(r1)) + np.sum(np.abs(r2)))/(nt*nx*ny)\n",
    "\n",
    "    m = torch.load(case)\n",
    "\n",
    "    log_loss = m['loss']\n",
    "    time = m['time']\n",
    "    memory = m['memory']\n",
    "\n",
    "    #return {'case':case,'t':t,'x':x,'y':y,'E':E,'U':U,'V':V,'R_rms':R_rms,'R_abs':R_abs,'loss':log_loss,'time':time,'memory':memory}\n",
    "    return R_rms,R_abs,E_rms,E_abs,time,memory"
   ]
  },
  {
   "cell_type": "code",
   "execution_count": 4,
   "metadata": {},
   "outputs": [],
   "source": [
    "def summarize(nf,ns,U_ref,V_ref):\n",
    "    cases = [f for f in glob.glob(f\"models/model_nf{nf}_ns{ns}_MLPRes_2x2x20_shuffle0_seed*_adam_lr0.01_loss_l1.pt\")]\n",
    "\n",
    "    n_cases = len(cases)\n",
    "\n",
    "    R_rms = 0\n",
    "    R_abs = 0\n",
    "    E_rms = 0\n",
    "    E_abs = 0\n",
    "    time = 0\n",
    "    memory = 0\n",
    "\n",
    "    for case in cases:\n",
    "        R_rmsC,R_absC,E_rmsC,E_absC,timeC,memoryC = get_case(case,U_ref,V_ref)\n",
    "        R_rms += R_rmsC/n_cases\n",
    "        R_abs += R_absC/n_cases\n",
    "        E_rms += E_rmsC/n_cases\n",
    "        E_abs += E_absC/n_cases\n",
    "        time += timeC/n_cases\n",
    "        memory += memoryC/n_cases\n",
    "\n",
    "    return R_rms,R_abs,E_rms,E_abs,time,memory,n_cases\n"
   ]
  },
  {
   "cell_type": "code",
   "execution_count": 5,
   "metadata": {},
   "outputs": [],
   "source": [
    "nfs = [0,100,1000,10000,100000]\n",
    "nss = [0,100,1000,10000,100000]\n",
    "n_nf = len(nfs)\n",
    "n_ns = len(nss)\n",
    "\n",
    "U_ref,V_ref = get_ref_case('reference_solution.mat')\n",
    "\n",
    "R_rms = np.zeros((n_nf,n_ns))\n",
    "R_abs = np.zeros((n_nf,n_ns))\n",
    "E_rms = np.zeros((n_nf,n_ns))\n",
    "E_abs = np.zeros((n_nf,n_ns))\n",
    "time = np.zeros((n_nf,n_ns))\n",
    "memory = np.zeros((n_nf,n_ns))\n",
    "n_cases = np.zeros((n_nf,n_ns))\n",
    "\n",
    "for i in range(0,n_nf):\n",
    "    for j in range(0,n_ns):\n",
    "        R_rmsC,R_absC,E_rmsC,E_absC,timeC,memoryC,n_casesC = summarize(nfs[i],nss[j],U_ref,V_ref)\n",
    "\n",
    "        R_rms[i,j] = R_rmsC\n",
    "        R_abs[i,j] = R_absC\n",
    "        E_rms[i,j] = E_rmsC\n",
    "        E_abs[i,j] = E_absC\n",
    "        time[i,j] = timeC\n",
    "        memory[i,j] = memoryC\n",
    "        n_cases[i,j] = n_casesC"
   ]
  },
  {
   "cell_type": "code",
   "execution_count": 7,
   "metadata": {},
   "outputs": [],
   "source": [
    "all_vars = {'R_rms':R_rms, 'R_abs':R_abs, 'E_rms':E_rms, 'E_abs':E_abs, 'time':time, 'memory':memory}\n",
    "var_to_view = 'R_rms'"
   ]
  },
  {
   "cell_type": "code",
   "execution_count": 10,
   "metadata": {},
   "outputs": [
    {
     "data": {
      "text/html": [
       "<div>\n",
       "<style scoped>\n",
       "    .dataframe tbody tr th:only-of-type {\n",
       "        vertical-align: middle;\n",
       "    }\n",
       "\n",
       "    .dataframe tbody tr th {\n",
       "        vertical-align: top;\n",
       "    }\n",
       "\n",
       "    .dataframe thead th {\n",
       "        text-align: right;\n",
       "    }\n",
       "</style>\n",
       "<table border=\"1\" class=\"dataframe\">\n",
       "  <thead>\n",
       "    <tr style=\"text-align: right;\">\n",
       "      <th></th>\n",
       "      <th>ns = 0</th>\n",
       "      <th>ns = 100</th>\n",
       "      <th>ns = 1000</th>\n",
       "      <th>ns = 10000</th>\n",
       "      <th>ns = 100000</th>\n",
       "    </tr>\n",
       "  </thead>\n",
       "  <tbody>\n",
       "    <tr>\n",
       "      <th>nf = 0</th>\n",
       "      <td>0.0</td>\n",
       "      <td>0.0</td>\n",
       "      <td>0.000000</td>\n",
       "      <td>0.0</td>\n",
       "      <td>0.0</td>\n",
       "    </tr>\n",
       "    <tr>\n",
       "      <th>nf = 100</th>\n",
       "      <td>0.0</td>\n",
       "      <td>0.0</td>\n",
       "      <td>0.000000</td>\n",
       "      <td>0.0</td>\n",
       "      <td>0.0</td>\n",
       "    </tr>\n",
       "    <tr>\n",
       "      <th>nf = 1000</th>\n",
       "      <td>0.0</td>\n",
       "      <td>0.0</td>\n",
       "      <td>0.000000</td>\n",
       "      <td>0.0</td>\n",
       "      <td>0.0</td>\n",
       "    </tr>\n",
       "    <tr>\n",
       "      <th>nf = 10000</th>\n",
       "      <td>0.0</td>\n",
       "      <td>0.0</td>\n",
       "      <td>1.508815</td>\n",
       "      <td>0.0</td>\n",
       "      <td>0.0</td>\n",
       "    </tr>\n",
       "    <tr>\n",
       "      <th>nf = 100000</th>\n",
       "      <td>0.0</td>\n",
       "      <td>0.0</td>\n",
       "      <td>0.000000</td>\n",
       "      <td>0.0</td>\n",
       "      <td>0.0</td>\n",
       "    </tr>\n",
       "  </tbody>\n",
       "</table>\n",
       "</div>"
      ],
      "text/plain": [
       "             ns = 0  ns = 100  ns = 1000  ns = 10000  ns = 100000\n",
       "nf = 0          0.0       0.0   0.000000         0.0          0.0\n",
       "nf = 100        0.0       0.0   0.000000         0.0          0.0\n",
       "nf = 1000       0.0       0.0   0.000000         0.0          0.0\n",
       "nf = 10000      0.0       0.0   1.508815         0.0          0.0\n",
       "nf = 100000     0.0       0.0   0.000000         0.0          0.0"
      ]
     },
     "execution_count": 10,
     "metadata": {},
     "output_type": "execute_result"
    }
   ],
   "source": [
    "D = pd.DataFrame(all_vars[var_to_view],\n",
    "                 columns=[f'ns = {ns}' for ns in nss],\n",
    "                 index=[f'nf = {nf}' for nf in nfs])\n",
    "\n",
    "D"
   ]
  }
 ],
 "metadata": {
  "kernelspec": {
   "display_name": "Python 3.9.11 64-bit",
   "language": "python",
   "name": "python3"
  },
  "language_info": {
   "codemirror_mode": {
    "name": "ipython",
    "version": 3
   },
   "file_extension": ".py",
   "mimetype": "text/x-python",
   "name": "python",
   "nbconvert_exporter": "python",
   "pygments_lexer": "ipython3",
   "version": "3.9.11"
  },
  "orig_nbformat": 4,
  "vscode": {
   "interpreter": {
    "hash": "3d3099be28bae604e2a0f11c4b26020d4f8e33b41246a5d0649e8890ee7adacc"
   }
  }
 },
 "nbformat": 4,
 "nbformat_minor": 2
}
